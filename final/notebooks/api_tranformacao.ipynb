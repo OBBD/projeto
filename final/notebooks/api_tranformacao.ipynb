{
  "nbformat": 4,
  "nbformat_minor": 0,
  "metadata": {
    "colab": {
      "name": "api_tranformacao.ipynb",
      "provenance": [],
      "collapsed_sections": [],
      "history_visible": true
    },
    "kernelspec": {
      "name": "python3",
      "display_name": "Python 3"
    },
    "language_info": {
      "name": "python"
    }
  },
  "cells": [
    {
      "cell_type": "code",
      "metadata": {
        "id": "D2Ia-YGVvFC4",
        "colab": {
          "base_uri": "https://localhost:8080/"
        },
        "outputId": "281aa59e-c22d-4376-9db0-dfb6d912cf03"
      },
      "source": [
        "!pip install bs4"
      ],
      "execution_count": 1,
      "outputs": [
        {
          "output_type": "stream",
          "name": "stdout",
          "text": [
            "Requirement already satisfied: bs4 in /usr/local/lib/python3.7/dist-packages (0.0.1)\n",
            "Requirement already satisfied: beautifulsoup4 in /usr/local/lib/python3.7/dist-packages (from bs4) (4.6.3)\n"
          ]
        }
      ]
    },
    {
      "cell_type": "code",
      "metadata": {
        "colab": {
          "base_uri": "https://localhost:8080/"
        },
        "id": "F0f7MpMZMr76",
        "outputId": "69189805-3ae6-4dfe-8ddf-601e15ac6c02"
      },
      "source": [
        "!pip install geopandas"
      ],
      "execution_count": 2,
      "outputs": [
        {
          "output_type": "stream",
          "name": "stdout",
          "text": [
            "Collecting geopandas\n",
            "  Downloading geopandas-0.10.2-py2.py3-none-any.whl (1.0 MB)\n",
            "\u001b[?25l\r\u001b[K     |▎                               | 10 kB 22.4 MB/s eta 0:00:01\r\u001b[K     |▋                               | 20 kB 28.7 MB/s eta 0:00:01\r\u001b[K     |█                               | 30 kB 25.4 MB/s eta 0:00:01\r\u001b[K     |█▎                              | 40 kB 18.4 MB/s eta 0:00:01\r\u001b[K     |█▋                              | 51 kB 8.3 MB/s eta 0:00:01\r\u001b[K     |██                              | 61 kB 9.0 MB/s eta 0:00:01\r\u001b[K     |██▎                             | 71 kB 7.4 MB/s eta 0:00:01\r\u001b[K     |██▌                             | 81 kB 8.3 MB/s eta 0:00:01\r\u001b[K     |██▉                             | 92 kB 7.0 MB/s eta 0:00:01\r\u001b[K     |███▏                            | 102 kB 7.6 MB/s eta 0:00:01\r\u001b[K     |███▌                            | 112 kB 7.6 MB/s eta 0:00:01\r\u001b[K     |███▉                            | 122 kB 7.6 MB/s eta 0:00:01\r\u001b[K     |████▏                           | 133 kB 7.6 MB/s eta 0:00:01\r\u001b[K     |████▌                           | 143 kB 7.6 MB/s eta 0:00:01\r\u001b[K     |████▊                           | 153 kB 7.6 MB/s eta 0:00:01\r\u001b[K     |█████                           | 163 kB 7.6 MB/s eta 0:00:01\r\u001b[K     |█████▍                          | 174 kB 7.6 MB/s eta 0:00:01\r\u001b[K     |█████▊                          | 184 kB 7.6 MB/s eta 0:00:01\r\u001b[K     |██████                          | 194 kB 7.6 MB/s eta 0:00:01\r\u001b[K     |██████▍                         | 204 kB 7.6 MB/s eta 0:00:01\r\u001b[K     |██████▊                         | 215 kB 7.6 MB/s eta 0:00:01\r\u001b[K     |███████                         | 225 kB 7.6 MB/s eta 0:00:01\r\u001b[K     |███████▎                        | 235 kB 7.6 MB/s eta 0:00:01\r\u001b[K     |███████▋                        | 245 kB 7.6 MB/s eta 0:00:01\r\u001b[K     |████████                        | 256 kB 7.6 MB/s eta 0:00:01\r\u001b[K     |████████▎                       | 266 kB 7.6 MB/s eta 0:00:01\r\u001b[K     |████████▋                       | 276 kB 7.6 MB/s eta 0:00:01\r\u001b[K     |█████████                       | 286 kB 7.6 MB/s eta 0:00:01\r\u001b[K     |█████████▏                      | 296 kB 7.6 MB/s eta 0:00:01\r\u001b[K     |█████████▌                      | 307 kB 7.6 MB/s eta 0:00:01\r\u001b[K     |█████████▉                      | 317 kB 7.6 MB/s eta 0:00:01\r\u001b[K     |██████████▏                     | 327 kB 7.6 MB/s eta 0:00:01\r\u001b[K     |██████████▌                     | 337 kB 7.6 MB/s eta 0:00:01\r\u001b[K     |██████████▉                     | 348 kB 7.6 MB/s eta 0:00:01\r\u001b[K     |███████████▏                    | 358 kB 7.6 MB/s eta 0:00:01\r\u001b[K     |███████████▍                    | 368 kB 7.6 MB/s eta 0:00:01\r\u001b[K     |███████████▊                    | 378 kB 7.6 MB/s eta 0:00:01\r\u001b[K     |████████████                    | 389 kB 7.6 MB/s eta 0:00:01\r\u001b[K     |████████████▍                   | 399 kB 7.6 MB/s eta 0:00:01\r\u001b[K     |████████████▊                   | 409 kB 7.6 MB/s eta 0:00:01\r\u001b[K     |█████████████                   | 419 kB 7.6 MB/s eta 0:00:01\r\u001b[K     |█████████████▍                  | 430 kB 7.6 MB/s eta 0:00:01\r\u001b[K     |█████████████▋                  | 440 kB 7.6 MB/s eta 0:00:01\r\u001b[K     |██████████████                  | 450 kB 7.6 MB/s eta 0:00:01\r\u001b[K     |██████████████▎                 | 460 kB 7.6 MB/s eta 0:00:01\r\u001b[K     |██████████████▋                 | 471 kB 7.6 MB/s eta 0:00:01\r\u001b[K     |███████████████                 | 481 kB 7.6 MB/s eta 0:00:01\r\u001b[K     |███████████████▎                | 491 kB 7.6 MB/s eta 0:00:01\r\u001b[K     |███████████████▋                | 501 kB 7.6 MB/s eta 0:00:01\r\u001b[K     |███████████████▉                | 512 kB 7.6 MB/s eta 0:00:01\r\u001b[K     |████████████████▏               | 522 kB 7.6 MB/s eta 0:00:01\r\u001b[K     |████████████████▌               | 532 kB 7.6 MB/s eta 0:00:01\r\u001b[K     |████████████████▉               | 542 kB 7.6 MB/s eta 0:00:01\r\u001b[K     |█████████████████▏              | 552 kB 7.6 MB/s eta 0:00:01\r\u001b[K     |█████████████████▌              | 563 kB 7.6 MB/s eta 0:00:01\r\u001b[K     |█████████████████▉              | 573 kB 7.6 MB/s eta 0:00:01\r\u001b[K     |██████████████████              | 583 kB 7.6 MB/s eta 0:00:01\r\u001b[K     |██████████████████▍             | 593 kB 7.6 MB/s eta 0:00:01\r\u001b[K     |██████████████████▊             | 604 kB 7.6 MB/s eta 0:00:01\r\u001b[K     |███████████████████             | 614 kB 7.6 MB/s eta 0:00:01\r\u001b[K     |███████████████████▍            | 624 kB 7.6 MB/s eta 0:00:01\r\u001b[K     |███████████████████▊            | 634 kB 7.6 MB/s eta 0:00:01\r\u001b[K     |████████████████████            | 645 kB 7.6 MB/s eta 0:00:01\r\u001b[K     |████████████████████▎           | 655 kB 7.6 MB/s eta 0:00:01\r\u001b[K     |████████████████████▋           | 665 kB 7.6 MB/s eta 0:00:01\r\u001b[K     |█████████████████████           | 675 kB 7.6 MB/s eta 0:00:01\r\u001b[K     |█████████████████████▎          | 686 kB 7.6 MB/s eta 0:00:01\r\u001b[K     |█████████████████████▋          | 696 kB 7.6 MB/s eta 0:00:01\r\u001b[K     |██████████████████████          | 706 kB 7.6 MB/s eta 0:00:01\r\u001b[K     |██████████████████████▎         | 716 kB 7.6 MB/s eta 0:00:01\r\u001b[K     |██████████████████████▋         | 727 kB 7.6 MB/s eta 0:00:01\r\u001b[K     |██████████████████████▉         | 737 kB 7.6 MB/s eta 0:00:01\r\u001b[K     |███████████████████████▏        | 747 kB 7.6 MB/s eta 0:00:01\r\u001b[K     |███████████████████████▌        | 757 kB 7.6 MB/s eta 0:00:01\r\u001b[K     |███████████████████████▉        | 768 kB 7.6 MB/s eta 0:00:01\r\u001b[K     |████████████████████████▏       | 778 kB 7.6 MB/s eta 0:00:01\r\u001b[K     |████████████████████████▌       | 788 kB 7.6 MB/s eta 0:00:01\r\u001b[K     |████████████████████████▉       | 798 kB 7.6 MB/s eta 0:00:01\r\u001b[K     |█████████████████████████       | 808 kB 7.6 MB/s eta 0:00:01\r\u001b[K     |█████████████████████████▍      | 819 kB 7.6 MB/s eta 0:00:01\r\u001b[K     |█████████████████████████▊      | 829 kB 7.6 MB/s eta 0:00:01\r\u001b[K     |██████████████████████████      | 839 kB 7.6 MB/s eta 0:00:01\r\u001b[K     |██████████████████████████▍     | 849 kB 7.6 MB/s eta 0:00:01\r\u001b[K     |██████████████████████████▊     | 860 kB 7.6 MB/s eta 0:00:01\r\u001b[K     |███████████████████████████     | 870 kB 7.6 MB/s eta 0:00:01\r\u001b[K     |███████████████████████████▎    | 880 kB 7.6 MB/s eta 0:00:01\r\u001b[K     |███████████████████████████▋    | 890 kB 7.6 MB/s eta 0:00:01\r\u001b[K     |████████████████████████████    | 901 kB 7.6 MB/s eta 0:00:01\r\u001b[K     |████████████████████████████▎   | 911 kB 7.6 MB/s eta 0:00:01\r\u001b[K     |████████████████████████████▋   | 921 kB 7.6 MB/s eta 0:00:01\r\u001b[K     |█████████████████████████████   | 931 kB 7.6 MB/s eta 0:00:01\r\u001b[K     |█████████████████████████████▎  | 942 kB 7.6 MB/s eta 0:00:01\r\u001b[K     |█████████████████████████████▌  | 952 kB 7.6 MB/s eta 0:00:01\r\u001b[K     |█████████████████████████████▉  | 962 kB 7.6 MB/s eta 0:00:01\r\u001b[K     |██████████████████████████████▏ | 972 kB 7.6 MB/s eta 0:00:01\r\u001b[K     |██████████████████████████████▌ | 983 kB 7.6 MB/s eta 0:00:01\r\u001b[K     |██████████████████████████████▉ | 993 kB 7.6 MB/s eta 0:00:01\r\u001b[K     |███████████████████████████████▏| 1.0 MB 7.6 MB/s eta 0:00:01\r\u001b[K     |███████████████████████████████▌| 1.0 MB 7.6 MB/s eta 0:00:01\r\u001b[K     |███████████████████████████████▊| 1.0 MB 7.6 MB/s eta 0:00:01\r\u001b[K     |████████████████████████████████| 1.0 MB 7.6 MB/s \n",
            "\u001b[?25hRequirement already satisfied: pandas>=0.25.0 in /usr/local/lib/python3.7/dist-packages (from geopandas) (1.1.5)\n",
            "Collecting pyproj>=2.2.0\n",
            "  Downloading pyproj-3.2.1-cp37-cp37m-manylinux2010_x86_64.whl (6.3 MB)\n",
            "\u001b[K     |████████████████████████████████| 6.3 MB 41.8 MB/s \n",
            "\u001b[?25hCollecting fiona>=1.8\n",
            "  Downloading Fiona-1.8.20-cp37-cp37m-manylinux1_x86_64.whl (15.4 MB)\n",
            "\u001b[K     |████████████████████████████████| 15.4 MB 35.3 MB/s \n",
            "\u001b[?25hRequirement already satisfied: shapely>=1.6 in /usr/local/lib/python3.7/dist-packages (from geopandas) (1.8.0)\n",
            "Requirement already satisfied: click>=4.0 in /usr/local/lib/python3.7/dist-packages (from fiona>=1.8->geopandas) (7.1.2)\n",
            "Collecting click-plugins>=1.0\n",
            "  Downloading click_plugins-1.1.1-py2.py3-none-any.whl (7.5 kB)\n",
            "Requirement already satisfied: certifi in /usr/local/lib/python3.7/dist-packages (from fiona>=1.8->geopandas) (2021.10.8)\n",
            "Collecting munch\n",
            "  Downloading munch-2.5.0-py2.py3-none-any.whl (10 kB)\n",
            "Requirement already satisfied: attrs>=17 in /usr/local/lib/python3.7/dist-packages (from fiona>=1.8->geopandas) (21.2.0)\n",
            "Collecting cligj>=0.5\n",
            "  Downloading cligj-0.7.2-py3-none-any.whl (7.1 kB)\n",
            "Requirement already satisfied: six>=1.7 in /usr/local/lib/python3.7/dist-packages (from fiona>=1.8->geopandas) (1.15.0)\n",
            "Requirement already satisfied: setuptools in /usr/local/lib/python3.7/dist-packages (from fiona>=1.8->geopandas) (57.4.0)\n",
            "Requirement already satisfied: python-dateutil>=2.7.3 in /usr/local/lib/python3.7/dist-packages (from pandas>=0.25.0->geopandas) (2.8.2)\n",
            "Requirement already satisfied: pytz>=2017.2 in /usr/local/lib/python3.7/dist-packages (from pandas>=0.25.0->geopandas) (2018.9)\n",
            "Requirement already satisfied: numpy>=1.15.4 in /usr/local/lib/python3.7/dist-packages (from pandas>=0.25.0->geopandas) (1.19.5)\n",
            "Installing collected packages: munch, cligj, click-plugins, pyproj, fiona, geopandas\n",
            "Successfully installed click-plugins-1.1.1 cligj-0.7.2 fiona-1.8.20 geopandas-0.10.2 munch-2.5.0 pyproj-3.2.1\n"
          ]
        }
      ]
    },
    {
      "cell_type": "code",
      "metadata": {
        "id": "cbv1YxFgT4Qe"
      },
      "source": [
        "import os\n",
        "import pandas as pd\n",
        "import geopandas as gpd\n",
        "from urllib.request import urlretrieve\n",
        "import requests\n",
        "from bs4 import BeautifulSoup"
      ],
      "execution_count": 3,
      "outputs": []
    },
    {
      "cell_type": "code",
      "metadata": {
        "colab": {
          "base_uri": "https://localhost:8080/"
        },
        "id": "8cza8nuXLU4i",
        "outputId": "a719fa09-6300-42ba-b284-c3a2a4635264"
      },
      "source": [
        "url = 'https://geoftp.ibge.gov.br/organizacao_do_territorio/estrutura_territorial/localidades/Shapefile_SHP/'\n",
        "\n",
        "req = requests.get(url)\n",
        "\n",
        "dados = BeautifulSoup(req.text, \"html.parser\")\n",
        "dados\n",
        "\n"
      ],
      "execution_count": 4,
      "outputs": [
        {
          "output_type": "execute_result",
          "data": {
            "text/plain": [
              "<!DOCTYPE HTML PUBLIC \"-//W3C//DTD HTML 3.2 Final//EN\">\n",
              "\n",
              "<html>\n",
              "<head>\n",
              "<title>Index of /organizacao_do_territorio/estrutura_territorial/localidades/Shapefile_SHP</title>\n",
              "</head>\n",
              "<body>\n",
              "<h1>Index of /organizacao_do_territorio/estrutura_territorial/localidades/Shapefile_SHP</h1>\n",
              "<table>\n",
              "<tr><th valign=\"top\"><img alt=\"[ICO]\" src=\"/icons/blank.gif\"/></th><th><a href=\"?C=N;O=D\">Name</a></th><th><a href=\"?C=M;O=A\">Last modified</a></th><th><a href=\"?C=S;O=A\">Size</a></th><th><a href=\"?C=D;O=A\">Description</a></th></tr>\n",
              "<tr><th colspan=\"5\"><hr/></th></tr>\n",
              "<tr><td valign=\"top\"><img alt=\"[PARENTDIR]\" src=\"/icons/back.gif\"/></td><td><a href=\"/organizacao_do_territorio/estrutura_territorial/localidades/\">Parent Directory</a> </td><td> </td><td align=\"right\">  - </td><td> </td></tr>\n",
              "<tr><td valign=\"top\"><img alt=\"[   ]\" src=\"/icons/unknown.gif\"/></td><td><a href=\"BR_Localidades_2010_v1.dbf\">BR_Localidades_2010_..&gt;</a></td><td align=\"right\">2016-06-02 01:30  </td><td align=\"right\"> 17M</td><td> </td></tr>\n",
              "<tr><td valign=\"top\"><img alt=\"[   ]\" src=\"/icons/unknown.gif\"/></td><td><a href=\"BR_Localidades_2010_v1.prj\">BR_Localidades_2010_..&gt;</a></td><td align=\"right\">2016-06-02 01:30  </td><td align=\"right\">152 </td><td> </td></tr>\n",
              "<tr><td valign=\"top\"><img alt=\"[   ]\" src=\"/icons/unknown.gif\"/></td><td><a href=\"BR_Localidades_2010_v1.shp\">BR_Localidades_2010_..&gt;</a></td><td align=\"right\">2016-06-02 01:30  </td><td align=\"right\">599K</td><td> </td></tr>\n",
              "<tr><td valign=\"top\"><img alt=\"[   ]\" src=\"/icons/unknown.gif\"/></td><td><a href=\"BR_Localidades_2010_v1.shx\">BR_Localidades_2010_..&gt;</a></td><td align=\"right\">2016-06-02 01:30  </td><td align=\"right\">171K</td><td> </td></tr>\n",
              "<tr><th colspan=\"5\"><hr/></th></tr>\n",
              "</table>\n",
              "</body></html>"
            ]
          },
          "metadata": {},
          "execution_count": 4
        }
      ]
    },
    {
      "cell_type": "code",
      "metadata": {
        "colab": {
          "base_uri": "https://localhost:8080/"
        },
        "id": "1rT5dYLNNVHV",
        "outputId": "5623c66a-21ad-4496-9e4a-6acab3d3b3b0"
      },
      "source": [
        "for arq in dados.find_all('a'):\n",
        "    if 'BR_Localidades' in arq.get_text():\n",
        "        print(arq.get_text())\n",
        "        req = requests.get(url + arq[\"href\"])\n",
        "        print(req.status_code)\n",
        "        open('/' + arq['href'], 'wb').write(req.content)"
      ],
      "execution_count": 5,
      "outputs": [
        {
          "output_type": "stream",
          "name": "stdout",
          "text": [
            "BR_Localidades_2010_..>\n",
            "200\n",
            "BR_Localidades_2010_..>\n",
            "200\n",
            "BR_Localidades_2010_..>\n",
            "200\n",
            "BR_Localidades_2010_..>\n",
            "200\n"
          ]
        }
      ]
    },
    {
      "cell_type": "code",
      "metadata": {
        "id": "B4VTrQ2dNfjB"
      },
      "source": [
        "localidades = gpd.read_file('/BR_Localidades_2010_v1.shp')"
      ],
      "execution_count": 6,
      "outputs": []
    },
    {
      "cell_type": "code",
      "metadata": {
        "colab": {
          "base_uri": "https://localhost:8080/",
          "height": 400
        },
        "id": "x4xwP3MoOHio",
        "outputId": "f77f197a-46d7-45e7-817c-a4efe856ab3e"
      },
      "source": [
        "localidades.head()"
      ],
      "execution_count": 7,
      "outputs": [
        {
          "output_type": "execute_result",
          "data": {
            "text/html": [
              "<div>\n",
              "<style scoped>\n",
              "    .dataframe tbody tr th:only-of-type {\n",
              "        vertical-align: middle;\n",
              "    }\n",
              "\n",
              "    .dataframe tbody tr th {\n",
              "        vertical-align: top;\n",
              "    }\n",
              "\n",
              "    .dataframe thead th {\n",
              "        text-align: right;\n",
              "    }\n",
              "</style>\n",
              "<table border=\"1\" class=\"dataframe\">\n",
              "  <thead>\n",
              "    <tr style=\"text-align: right;\">\n",
              "      <th></th>\n",
              "      <th>ID</th>\n",
              "      <th>CD_GEOCODI</th>\n",
              "      <th>TIPO</th>\n",
              "      <th>CD_GEOCODB</th>\n",
              "      <th>NM_BAIRRO</th>\n",
              "      <th>CD_GEOCODS</th>\n",
              "      <th>NM_SUBDIST</th>\n",
              "      <th>CD_GEOCODD</th>\n",
              "      <th>NM_DISTRIT</th>\n",
              "      <th>CD_GEOCODM</th>\n",
              "      <th>NM_MUNICIP</th>\n",
              "      <th>NM_MICRO</th>\n",
              "      <th>NM_MESO</th>\n",
              "      <th>NM_UF</th>\n",
              "      <th>CD_NIVEL</th>\n",
              "      <th>CD_CATEGOR</th>\n",
              "      <th>NM_CATEGOR</th>\n",
              "      <th>NM_LOCALID</th>\n",
              "      <th>LONG</th>\n",
              "      <th>LAT</th>\n",
              "      <th>ALT</th>\n",
              "      <th>GMRotation</th>\n",
              "      <th>geometry</th>\n",
              "    </tr>\n",
              "  </thead>\n",
              "  <tbody>\n",
              "    <tr>\n",
              "      <th>0</th>\n",
              "      <td>1</td>\n",
              "      <td>110001505000001</td>\n",
              "      <td>URBANO</td>\n",
              "      <td>110001505006</td>\n",
              "      <td>Redondo</td>\n",
              "      <td>11000150500</td>\n",
              "      <td>None</td>\n",
              "      <td>110001505</td>\n",
              "      <td>ALTA FLORESTA D'OESTE</td>\n",
              "      <td>1100015</td>\n",
              "      <td>ALTA FLORESTA D'OESTE</td>\n",
              "      <td>CACOAL</td>\n",
              "      <td>LESTE RONDONIENSE</td>\n",
              "      <td>RONDÔNIA</td>\n",
              "      <td>1</td>\n",
              "      <td>05</td>\n",
              "      <td>CIDADE</td>\n",
              "      <td>ALTA FLORESTA D'OESTE</td>\n",
              "      <td>-61.999824</td>\n",
              "      <td>-11.935540</td>\n",
              "      <td>337.735719</td>\n",
              "      <td>0.0</td>\n",
              "      <td>POINT (-61.99982 -11.93554)</td>\n",
              "    </tr>\n",
              "    <tr>\n",
              "      <th>1</th>\n",
              "      <td>2</td>\n",
              "      <td>110001515000001</td>\n",
              "      <td>URBANO</td>\n",
              "      <td>None</td>\n",
              "      <td>None</td>\n",
              "      <td>11000151500</td>\n",
              "      <td>None</td>\n",
              "      <td>110001515</td>\n",
              "      <td>FILADÉLFIA D'OESTE</td>\n",
              "      <td>1100015</td>\n",
              "      <td>ALTA FLORESTA D'OESTE</td>\n",
              "      <td>CACOAL</td>\n",
              "      <td>LESTE RONDONIENSE</td>\n",
              "      <td>RONDÔNIA</td>\n",
              "      <td>2</td>\n",
              "      <td>15</td>\n",
              "      <td>VILA</td>\n",
              "      <td>FILADÉLFIA D'OESTE</td>\n",
              "      <td>-62.043898</td>\n",
              "      <td>-12.437239</td>\n",
              "      <td>215.244429</td>\n",
              "      <td>0.0</td>\n",
              "      <td>POINT (-62.04390 -12.43724)</td>\n",
              "    </tr>\n",
              "    <tr>\n",
              "      <th>2</th>\n",
              "      <td>3</td>\n",
              "      <td>110001520000001</td>\n",
              "      <td>URBANO</td>\n",
              "      <td>None</td>\n",
              "      <td>None</td>\n",
              "      <td>11000152000</td>\n",
              "      <td>None</td>\n",
              "      <td>110001520</td>\n",
              "      <td>IZIDOLÂNDIA</td>\n",
              "      <td>1100015</td>\n",
              "      <td>ALTA FLORESTA D'OESTE</td>\n",
              "      <td>CACOAL</td>\n",
              "      <td>LESTE RONDONIENSE</td>\n",
              "      <td>RONDÔNIA</td>\n",
              "      <td>2</td>\n",
              "      <td>20</td>\n",
              "      <td>VILA</td>\n",
              "      <td>IZIDOLÂNDIA</td>\n",
              "      <td>-62.175549</td>\n",
              "      <td>-12.601415</td>\n",
              "      <td>181.044807</td>\n",
              "      <td>0.0</td>\n",
              "      <td>POINT (-62.17555 -12.60142)</td>\n",
              "    </tr>\n",
              "    <tr>\n",
              "      <th>3</th>\n",
              "      <td>4</td>\n",
              "      <td>110001525000001</td>\n",
              "      <td>URBANO</td>\n",
              "      <td>None</td>\n",
              "      <td>None</td>\n",
              "      <td>11000152500</td>\n",
              "      <td>None</td>\n",
              "      <td>110001525</td>\n",
              "      <td>NOVA GEASE D'OESTE</td>\n",
              "      <td>1100015</td>\n",
              "      <td>ALTA FLORESTA D'OESTE</td>\n",
              "      <td>CACOAL</td>\n",
              "      <td>LESTE RONDONIENSE</td>\n",
              "      <td>RONDÔNIA</td>\n",
              "      <td>2</td>\n",
              "      <td>25</td>\n",
              "      <td>VILA</td>\n",
              "      <td>NOVA GEASE D'OESTE</td>\n",
              "      <td>-62.318650</td>\n",
              "      <td>-11.919792</td>\n",
              "      <td>191.576571</td>\n",
              "      <td>0.0</td>\n",
              "      <td>POINT (-62.31865 -11.91979)</td>\n",
              "    </tr>\n",
              "    <tr>\n",
              "      <th>4</th>\n",
              "      <td>5</td>\n",
              "      <td>110001530000001</td>\n",
              "      <td>URBANO</td>\n",
              "      <td>None</td>\n",
              "      <td>None</td>\n",
              "      <td>11000153000</td>\n",
              "      <td>None</td>\n",
              "      <td>110001530</td>\n",
              "      <td>ROLIM DE MOURA DO GUAPORÉ</td>\n",
              "      <td>1100015</td>\n",
              "      <td>ALTA FLORESTA D'OESTE</td>\n",
              "      <td>CACOAL</td>\n",
              "      <td>LESTE RONDONIENSE</td>\n",
              "      <td>RONDÔNIA</td>\n",
              "      <td>2</td>\n",
              "      <td>30</td>\n",
              "      <td>VILA</td>\n",
              "      <td>ROLIM DE MOURA DO GUAPORÉ</td>\n",
              "      <td>-62.276812</td>\n",
              "      <td>-13.079806</td>\n",
              "      <td>157.285277</td>\n",
              "      <td>0.0</td>\n",
              "      <td>POINT (-62.27681 -13.07981)</td>\n",
              "    </tr>\n",
              "  </tbody>\n",
              "</table>\n",
              "</div>"
            ],
            "text/plain": [
              "   ID       CD_GEOCODI  ... GMRotation                     geometry\n",
              "0   1  110001505000001  ...        0.0  POINT (-61.99982 -11.93554)\n",
              "1   2  110001515000001  ...        0.0  POINT (-62.04390 -12.43724)\n",
              "2   3  110001520000001  ...        0.0  POINT (-62.17555 -12.60142)\n",
              "3   4  110001525000001  ...        0.0  POINT (-62.31865 -11.91979)\n",
              "4   5  110001530000001  ...        0.0  POINT (-62.27681 -13.07981)\n",
              "\n",
              "[5 rows x 23 columns]"
            ]
          },
          "metadata": {},
          "execution_count": 7
        }
      ]
    },
    {
      "cell_type": "code",
      "metadata": {
        "colab": {
          "base_uri": "https://localhost:8080/",
          "height": 206
        },
        "id": "tCjHuQ-0T7iF",
        "outputId": "2f77ad4b-1a7b-4c2a-d171-7f4fbc7eaa9b"
      },
      "source": [
        "import pandas as pd\n",
        "import io\n",
        "import requests\n",
        "url2 = \"https://raw.githubusercontent.com/OBBD/projeto/main/final/data/external/Focos2020.csv\"\n",
        "data = requests.get(url2).content\n",
        "csv = pd.read_csv(io.StringIO(data.decode(\"utf-8\")))\n",
        "csv.head()"
      ],
      "execution_count": 11,
      "outputs": [
        {
          "output_type": "execute_result",
          "data": {
            "text/html": [
              "<div>\n",
              "<style scoped>\n",
              "    .dataframe tbody tr th:only-of-type {\n",
              "        vertical-align: middle;\n",
              "    }\n",
              "\n",
              "    .dataframe tbody tr th {\n",
              "        vertical-align: top;\n",
              "    }\n",
              "\n",
              "    .dataframe thead th {\n",
              "        text-align: right;\n",
              "    }\n",
              "</style>\n",
              "<table border=\"1\" class=\"dataframe\">\n",
              "  <thead>\n",
              "    <tr style=\"text-align: right;\">\n",
              "      <th></th>\n",
              "      <th>datahora</th>\n",
              "      <th>satelite</th>\n",
              "      <th>pais</th>\n",
              "      <th>estado</th>\n",
              "      <th>municipio</th>\n",
              "      <th>bioma</th>\n",
              "      <th>diasemchuva</th>\n",
              "      <th>precipitacao</th>\n",
              "      <th>riscofogo</th>\n",
              "      <th>latitude</th>\n",
              "      <th>longitude</th>\n",
              "      <th>frp</th>\n",
              "    </tr>\n",
              "  </thead>\n",
              "  <tbody>\n",
              "    <tr>\n",
              "      <th>0</th>\n",
              "      <td>2020/10/10 16:30:00</td>\n",
              "      <td>AQUA_M-T</td>\n",
              "      <td>Brasil</td>\n",
              "      <td>BAHIA</td>\n",
              "      <td>JACARACI</td>\n",
              "      <td>Caatinga</td>\n",
              "      <td>18.0</td>\n",
              "      <td>0.0</td>\n",
              "      <td>1.0</td>\n",
              "      <td>-14.668</td>\n",
              "      <td>-42.290</td>\n",
              "      <td>12.3</td>\n",
              "    </tr>\n",
              "    <tr>\n",
              "      <th>1</th>\n",
              "      <td>2020/10/10 16:30:00</td>\n",
              "      <td>AQUA_M-T</td>\n",
              "      <td>Brasil</td>\n",
              "      <td>MINAS GERAIS</td>\n",
              "      <td>SAO JOAO DAS MISSOES</td>\n",
              "      <td>Cerrado</td>\n",
              "      <td>4.0</td>\n",
              "      <td>0.2</td>\n",
              "      <td>1.0</td>\n",
              "      <td>-14.899</td>\n",
              "      <td>-44.305</td>\n",
              "      <td>16.5</td>\n",
              "    </tr>\n",
              "    <tr>\n",
              "      <th>2</th>\n",
              "      <td>2020/03/09 18:00:00</td>\n",
              "      <td>AQUA_M-T</td>\n",
              "      <td>Brasil</td>\n",
              "      <td>RIO GRANDE DO SUL</td>\n",
              "      <td>QUARAI</td>\n",
              "      <td>Pampa</td>\n",
              "      <td>20.0</td>\n",
              "      <td>0.0</td>\n",
              "      <td>1.0</td>\n",
              "      <td>-30.395</td>\n",
              "      <td>-56.185</td>\n",
              "      <td>15.9</td>\n",
              "    </tr>\n",
              "    <tr>\n",
              "      <th>3</th>\n",
              "      <td>2020/03/09 18:00:00</td>\n",
              "      <td>AQUA_M-T</td>\n",
              "      <td>Brasil</td>\n",
              "      <td>RIO GRANDE DO SUL</td>\n",
              "      <td>QUARAI</td>\n",
              "      <td>Pampa</td>\n",
              "      <td>20.0</td>\n",
              "      <td>0.0</td>\n",
              "      <td>1.0</td>\n",
              "      <td>-30.406</td>\n",
              "      <td>-56.182</td>\n",
              "      <td>11.3</td>\n",
              "    </tr>\n",
              "    <tr>\n",
              "      <th>4</th>\n",
              "      <td>2020/03/09 18:05:00</td>\n",
              "      <td>AQUA_M-T</td>\n",
              "      <td>Brasil</td>\n",
              "      <td>AMAZONAS</td>\n",
              "      <td>BARCELOS</td>\n",
              "      <td>Amazonia</td>\n",
              "      <td>0.0</td>\n",
              "      <td>0.0</td>\n",
              "      <td>0.0</td>\n",
              "      <td>-0.611</td>\n",
              "      <td>-64.795</td>\n",
              "      <td>13.1</td>\n",
              "    </tr>\n",
              "  </tbody>\n",
              "</table>\n",
              "</div>"
            ],
            "text/plain": [
              "              datahora  satelite    pais  ... latitude longitude   frp\n",
              "0  2020/10/10 16:30:00  AQUA_M-T  Brasil  ...  -14.668   -42.290  12.3\n",
              "1  2020/10/10 16:30:00  AQUA_M-T  Brasil  ...  -14.899   -44.305  16.5\n",
              "2  2020/03/09 18:00:00  AQUA_M-T  Brasil  ...  -30.395   -56.185  15.9\n",
              "3  2020/03/09 18:00:00  AQUA_M-T  Brasil  ...  -30.406   -56.182  11.3\n",
              "4  2020/03/09 18:05:00  AQUA_M-T  Brasil  ...   -0.611   -64.795  13.1\n",
              "\n",
              "[5 rows x 12 columns]"
            ]
          },
          "metadata": {},
          "execution_count": 11
        }
      ]
    },
    {
      "cell_type": "code",
      "metadata": {
        "id": "DXcFtpIeu6em"
      },
      "source": [
        "# Análise dados da temperatura de Manaus entre os anos de 2017 e 2019\n",
        "\n",
        "import os\n",
        "\n",
        "import pandas as pd\n",
        "import numpy as np\n",
        "\n",
        "df = pd.read_csv('TemperaturaManaus.csv')\n",
        "\n",
        "df.head()\n",
        "\n",
        "months = ['JAN', 'FEB', 'MAR', 'APR', 'MAY', 'JUN', 'JUL', 'AUG', 'SEP', 'OCT', 'NOV', 'DEC']\n",
        "k = np.zeros(12)\n",
        "\n",
        "for i in range(12):\n",
        "  k[i] = df.loc[0][1+i] + df.loc[1][1+i] + df.loc[2][1+i]\n",
        "  k[i] = k[i]/3\n",
        "\n",
        "average = {\"Average\": k}\n",
        "\n",
        "df2 = pd.DataFrame(average, index=months)\n",
        "df2\n",
        "\n"
      ],
      "execution_count": null,
      "outputs": []
    }
  ]
}